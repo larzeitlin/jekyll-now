{
 "cells": [
  {
   "cell_type": "markdown",
   "metadata": {},
   "source": [
    "# Example of using Plotly and widgets in Jupyter"
   ]
  },
  {
   "cell_type": "markdown",
   "metadata": {},
   "source": [
    "### imports "
   ]
  },
  {
   "cell_type": "code",
   "execution_count": null,
   "metadata": {
    "collapsed": true
   },
   "outputs": [],
   "source": [
    "import plotly as py\n",
    "import plotly.graph_objs as go\n",
    "import ipywidgets as widgets\n",
    "import numpy as np\n",
    "from scipy import special\n",
    "\n"
   ]
  },
  {
   "cell_type": "markdown",
   "metadata": {},
   "source": [
    "First we initialize offline mode for plotly, then set up a linspace for x and a layout in plotly\n",
    "\n",
    "Then we use a callback function (update_plot) to set values from the widgets"
   ]
  },
  {
   "cell_type": "code",
   "execution_count": null,
   "metadata": {
    "collapsed": true
   },
   "outputs": [],
   "source": [
    "py.offline.init_notebook_mode(connected=True)\n",
    "\n",
    "x = np.linspace(0, np.pi, 1000)\n",
    "layout = go.Layout(\n",
    "    title=\"SIMPLE EXAMPLE\",\n",
    "    yaxis=dict(\n",
    "            title='volts'\n",
    "    ),\n",
    "    xaxis=dict(\n",
    "        title=\"nanoseconds\"\n",
    "    )\n",
    ")\n",
    "\n",
    "def update_plot(signals, freq):\n",
    "    \n",
    "    data=[]\n",
    "    for s in signals:\n",
    "        trace1 = go.Scatter(\n",
    "            x=x, \n",
    "            y=special.jv(s, freq * x),\n",
    "            mode=\"lines\",\n",
    "            name=\"bessel {}\".format(s),\n",
    "            line=dict(\n",
    "                shape='spline'\n",
    "            )\n",
    "        )\n",
    "\n",
    "    fig = go.Figure(data=[trace1], layout=layout)\n",
    "    py.offline.iplot(fig)"
   ]
  },
  {
   "cell_type": "markdown",
   "metadata": {},
   "source": [
    "Then we create the widgets. After that the interactive method is used to update values. "
   ]
  },
  {
   "cell_type": "code",
   "execution_count": 2,
   "metadata": {},
   "outputs": [
    {
     "data": {
      "text/html": [
       "<script>requirejs.config({paths: { 'plotly': ['https://cdn.plot.ly/plotly-latest.min']},});if(!window.Plotly) {{require(['plotly'],function(plotly) {window.Plotly=plotly;});}}</script>"
      ],
      "text/vnd.plotly.v1+html": [
       "<script>requirejs.config({paths: { 'plotly': ['https://cdn.plot.ly/plotly-latest.min']},});if(!window.Plotly) {{require(['plotly'],function(plotly) {window.Plotly=plotly;});}}</script>"
      ]
     },
     "metadata": {},
     "output_type": "display_data"
    },
    {
     "data": {
      "application/vnd.jupyter.widget-view+json": {
       "model_id": "fb85362a6f26496eaf28342d3568f777"
      }
     },
     "metadata": {},
     "output_type": "display_data"
    }
   ],
   "source": [
    "\n",
    "\n",
    "signals = widgets.SelectMultiple(options=list(range(6)), value=(0, ), discription=\"Bessel Order\")\n",
    "freq = widgets.FloatSlider(min=1, max=20, value=1, description=\"freq\")\n",
    "\n",
    "widgets.interactive(update_plot, signals=signals, freq=freq)\n",
    "\n"
   ]
  },
  {
   "cell_type": "code",
   "execution_count": null,
   "metadata": {
    "collapsed": true
   },
   "outputs": [],
   "source": []
  },
  {
   "cell_type": "code",
   "execution_count": null,
   "metadata": {
    "collapsed": true
   },
   "outputs": [],
   "source": []
  },
  {
   "cell_type": "markdown",
   "metadata": {},
   "source": []
  }
 ],
 "metadata": {
  "kernelspec": {
   "display_name": "Python 3",
   "language": "python",
   "name": "python3"
  },
  "language_info": {
   "codemirror_mode": {
    "name": "ipython",
    "version": 3
   },
   "file_extension": ".py",
   "mimetype": "text/x-python",
   "name": "python",
   "nbconvert_exporter": "python",
   "pygments_lexer": "ipython3",
   "version": "3.5.2"
  }
 },
 "nbformat": 4,
 "nbformat_minor": 2
}
